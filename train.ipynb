{
 "cells": [
  {
   "cell_type": "code",
   "execution_count": 1,
   "metadata": {},
   "outputs": [
    {
     "name": "stderr",
     "output_type": "stream",
     "text": [
      "Using TensorFlow backend.\n"
     ]
    }
   ],
   "source": [
    "#匯入所需模組\n",
    "\n",
    "import os\n",
    "import pandas as pd\n",
    "import numpy as np\n",
    "import cv2\n",
    "import PIL.Image\n",
    "from keras.preprocessing import image\n",
    "from keras.utils import np_utils\n",
    "from sklearn.utils import shuffle\n",
    "from sklearn.model_selection import train_test_split\n",
    "from keras.applications import *\n",
    "from keras.optimizers import Adam\n",
    "from keras.layers import Dense, Activation, Flatten\n",
    "from keras.layers import Input,Dropout\n",
    "from keras.models import Model"
   ]
  },
  {
   "cell_type": "code",
   "execution_count": 2,
   "metadata": {},
   "outputs": [],
   "source": [
    "label_list=list()\n",
    "img_name_list=list()\n",
    "fp=open('./train.csv', \"r\")\n",
    "for line in iter(fp):\n",
    "    img_name_list.append(line[:-3])\n",
    "    if line[-2:-1]=='A':\n",
    "        label_list.append(0)\n",
    "    elif line[-2:-1]=='B':\n",
    "        label_list.append(1)\n",
    "    elif line[-2:-1]=='C':\n",
    "        label_list.append(2)\n",
    "fp.close()"
   ]
  },
  {
   "cell_type": "code",
   "execution_count": 3,
   "metadata": {},
   "outputs": [
    {
     "name": "stdout",
     "output_type": "stream",
     "text": [
      "(5600, 224, 224, 3)\n"
     ]
    }
   ],
   "source": [
    "#讀進訓練集並做正規化\n",
    "path='./C1-P1_Train/'\n",
    "img_data_list=[]\n",
    "\n",
    "for img in img_name_list:\n",
    "    img_path=path+img\n",
    "    IMG=image.load_img(img_path,target_size=(224,224))\n",
    "    im=image.img_to_array(IMG)\n",
    "#     im=np.expand_dims(im,axis=0)\n",
    "    im=im/255.0\n",
    "    img_data_list.append(im)\n",
    "\n",
    "img_data = np.array(img_data_list)\n",
    "\n",
    "print (img_data.shape)  \n",
    "# img_data=np.rollaxis(img_data,1,0)\n",
    "# print (img_data.shape) \n",
    "# img_data=img_data[0]\n",
    "# print (img_data.shape)  "
   ]
  },
  {
   "cell_type": "code",
   "execution_count": 4,
   "metadata": {},
   "outputs": [],
   "source": [
    "#設定標籤值\n",
    "num_classes=3\n",
    "Y=np_utils.to_categorical(label_list,num_classes)\n",
    "x,y=shuffle(img_data,Y,random_state=2)\n",
    "\n",
    "#訓練集80%、驗證集20%\n",
    "x_train,x_test,y_train,y_test=train_test_split(x,y,test_size=0.15,random_state=2)"
   ]
  },
  {
   "cell_type": "code",
   "execution_count": 9,
   "metadata": {},
   "outputs": [],
   "source": [
    "# from keras.models import Sequential\n",
    "# from keras.layers import Dense, Activation, Dropout, Flatten\n",
    "# from keras.layers import Conv2D\n",
    "# from keras.layers import MaxPooling2D\n",
    "\n",
    "# input_shape = (224, 224, 3)\n",
    "\n",
    "# model = Sequential([\n",
    "#     Conv2D(64, (3, 3), input_shape=input_shape, padding='same',\n",
    "#            activation='relu'),\n",
    "#     Conv2D(64, (3, 3), activation='relu', padding='same'),\n",
    "#     MaxPooling2D(pool_size=(2, 2), strides=(2, 2)),\n",
    "#     Conv2D(128, (3, 3), activation='relu', padding='same'),\n",
    "#     Conv2D(128, (3, 3), activation='relu', padding='same',),\n",
    "#     MaxPooling2D(pool_size=(2, 2), strides=(2, 2)),\n",
    "#     Conv2D(256, (3, 3), activation='relu', padding='same',),\n",
    "#     Conv2D(256, (3, 3), activation='relu', padding='same',),\n",
    "#     Conv2D(256, (3, 3), activation='relu', padding='same',),\n",
    "#     MaxPooling2D(pool_size=(2, 2), strides=(2, 2)),\n",
    "#     Conv2D(512, (3, 3), activation='relu', padding='same',),\n",
    "#     Conv2D(512, (3, 3), activation='relu', padding='same',),\n",
    "#     Conv2D(512, (3, 3), activation='relu', padding='same',),\n",
    "#     MaxPooling2D(pool_size=(2, 2), strides=(2, 2)),\n",
    "#     Conv2D(512, (3, 3), activation='relu', padding='same',),\n",
    "#     Conv2D(512, (3, 3), activation='relu', padding='same',),\n",
    "#     Conv2D(512, (3, 3), activation='relu', padding='same',),\n",
    "#     MaxPooling2D(pool_size=(2, 2), strides=(2, 2)),\n",
    "#     Flatten(),\n",
    "# #     Dense(4096, activation='relu'),\n",
    "# #     Dense(1024, activation='softmax'),\n",
    "#     Dropout(0.5),\n",
    "#     Dense(3, activation='softmax')\n",
    "# ])\n",
    "\n",
    "# model.compile(loss='categorical_crossentropy',optimizer=Adam(lr=1e-5),metrics=['accuracy'])\n",
    "# model.fit(x_train,y_train,validation_data=(x_test,y_test),batch_size=16,epochs=60,verbose=1)"
   ]
  },
  {
   "cell_type": "code",
   "execution_count": 5,
   "metadata": {},
   "outputs": [
    {
     "name": "stdout",
     "output_type": "stream",
     "text": [
      "WARNING:tensorflow:From C:\\Users\\le621\\Anaconda3\\lib\\site-packages\\keras\\backend\\tensorflow_backend.py:74: The name tf.get_default_graph is deprecated. Please use tf.compat.v1.get_default_graph instead.\n",
      "\n",
      "WARNING:tensorflow:From C:\\Users\\le621\\Anaconda3\\lib\\site-packages\\keras\\backend\\tensorflow_backend.py:517: The name tf.placeholder is deprecated. Please use tf.compat.v1.placeholder instead.\n",
      "\n",
      "WARNING:tensorflow:From C:\\Users\\le621\\Anaconda3\\lib\\site-packages\\keras\\backend\\tensorflow_backend.py:4138: The name tf.random_uniform is deprecated. Please use tf.random.uniform instead.\n",
      "\n",
      "WARNING:tensorflow:From C:\\Users\\le621\\Anaconda3\\lib\\site-packages\\keras\\backend\\tensorflow_backend.py:3976: The name tf.nn.max_pool is deprecated. Please use tf.nn.max_pool2d instead.\n",
      "\n",
      "WARNING:tensorflow:From C:\\Users\\le621\\Anaconda3\\lib\\site-packages\\keras\\backend\\tensorflow_backend.py:174: The name tf.get_default_session is deprecated. Please use tf.compat.v1.get_default_session instead.\n",
      "\n",
      "WARNING:tensorflow:From C:\\Users\\le621\\Anaconda3\\lib\\site-packages\\keras\\backend\\tensorflow_backend.py:181: The name tf.ConfigProto is deprecated. Please use tf.compat.v1.ConfigProto instead.\n",
      "\n",
      "WARNING:tensorflow:From C:\\Users\\le621\\Anaconda3\\lib\\site-packages\\keras\\backend\\tensorflow_backend.py:3445: calling dropout (from tensorflow.python.ops.nn_ops) with keep_prob is deprecated and will be removed in a future version.\n",
      "Instructions for updating:\n",
      "Please use `rate` instead of `keep_prob`. Rate should be set to `rate = 1 - keep_prob`.\n",
      "WARNING:tensorflow:From C:\\Users\\le621\\Anaconda3\\lib\\site-packages\\keras\\optimizers.py:790: The name tf.train.Optimizer is deprecated. Please use tf.compat.v1.train.Optimizer instead.\n",
      "\n",
      "WARNING:tensorflow:From C:\\Users\\le621\\Anaconda3\\lib\\site-packages\\tensorflow\\python\\ops\\math_grad.py:1250: add_dispatch_support.<locals>.wrapper (from tensorflow.python.ops.array_ops) is deprecated and will be removed in a future version.\n",
      "Instructions for updating:\n",
      "Use tf.where in 2.0, which has the same broadcast rule as np.where\n",
      "Train on 4760 samples, validate on 840 samples\n",
      "Epoch 1/30\n",
      "4760/4760 [==============================] - 153s 32ms/step - loss: 0.9582 - acc: 0.5477 - val_loss: 0.6509 - val_acc: 0.7179\n",
      "Epoch 2/30\n",
      "4760/4760 [==============================] - 134s 28ms/step - loss: 0.6853 - acc: 0.7034 - val_loss: 0.6232 - val_acc: 0.7190\n",
      "Epoch 3/30\n",
      "4760/4760 [==============================] - 134s 28ms/step - loss: 0.5885 - acc: 0.7489 - val_loss: 0.6106 - val_acc: 0.7452\n",
      "Epoch 4/30\n",
      "4760/4760 [==============================] - 134s 28ms/step - loss: 0.5258 - acc: 0.7803 - val_loss: 0.5953 - val_acc: 0.7595\n",
      "Epoch 5/30\n",
      "4760/4760 [==============================] - 134s 28ms/step - loss: 0.4643 - acc: 0.8088 - val_loss: 0.6114 - val_acc: 0.7536\n",
      "Epoch 6/30\n",
      "4760/4760 [==============================] - 135s 28ms/step - loss: 0.3988 - acc: 0.8387 - val_loss: 0.6431 - val_acc: 0.7393\n",
      "Epoch 7/30\n",
      "4760/4760 [==============================] - 135s 28ms/step - loss: 0.3446 - acc: 0.8595 - val_loss: 0.6419 - val_acc: 0.7536\n",
      "Epoch 8/30\n",
      "4760/4760 [==============================] - 135s 28ms/step - loss: 0.2816 - acc: 0.8914 - val_loss: 0.6467 - val_acc: 0.7560\n",
      "Epoch 9/30\n",
      "4760/4760 [==============================] - 135s 28ms/step - loss: 0.2337 - acc: 0.9107 - val_loss: 0.7174 - val_acc: 0.7321\n",
      "Epoch 10/30\n",
      "4760/4760 [==============================] - 135s 28ms/step - loss: 0.1952 - acc: 0.9284 - val_loss: 0.7036 - val_acc: 0.7607\n",
      "Epoch 11/30\n",
      "4760/4760 [==============================] - 135s 28ms/step - loss: 0.1649 - acc: 0.9370 - val_loss: 0.7527 - val_acc: 0.7369\n",
      "Epoch 12/30\n",
      "4760/4760 [==============================] - 135s 28ms/step - loss: 0.1357 - acc: 0.9506 - val_loss: 0.7735 - val_acc: 0.7643\n",
      "Epoch 13/30\n",
      "4760/4760 [==============================] - 135s 28ms/step - loss: 0.1144 - acc: 0.9582 - val_loss: 0.8612 - val_acc: 0.7381\n",
      "Epoch 14/30\n",
      "4760/4760 [==============================] - 135s 28ms/step - loss: 0.0935 - acc: 0.9679 - val_loss: 0.8093 - val_acc: 0.7607\n",
      "Epoch 15/30\n",
      "4760/4760 [==============================] - 135s 28ms/step - loss: 0.0890 - acc: 0.9702 - val_loss: 0.8976 - val_acc: 0.7583\n",
      "Epoch 16/30\n",
      "4760/4760 [==============================] - 135s 28ms/step - loss: 0.0852 - acc: 0.9700 - val_loss: 0.8850 - val_acc: 0.7571\n",
      "Epoch 17/30\n",
      "4760/4760 [==============================] - 135s 28ms/step - loss: 0.0655 - acc: 0.9794 - val_loss: 0.8442 - val_acc: 0.7500\n",
      "Epoch 18/30\n",
      "4760/4760 [==============================] - 135s 28ms/step - loss: 0.0597 - acc: 0.9813 - val_loss: 0.9768 - val_acc: 0.7476\n",
      "Epoch 19/30\n",
      "4760/4760 [==============================] - 134s 28ms/step - loss: 0.0516 - acc: 0.9845 - val_loss: 0.9291 - val_acc: 0.7512\n",
      "Epoch 20/30\n",
      "4760/4760 [==============================] - 134s 28ms/step - loss: 0.0452 - acc: 0.9857 - val_loss: 0.9961 - val_acc: 0.7595\n",
      "Epoch 21/30\n",
      "4760/4760 [==============================] - 135s 28ms/step - loss: 0.0443 - acc: 0.9838 - val_loss: 1.0107 - val_acc: 0.7512\n",
      "Epoch 22/30\n",
      "4760/4760 [==============================] - 135s 28ms/step - loss: 0.0355 - acc: 0.9895 - val_loss: 0.9920 - val_acc: 0.7417\n",
      "Epoch 23/30\n",
      "4760/4760 [==============================] - 134s 28ms/step - loss: 0.0389 - acc: 0.9882 - val_loss: 0.9318 - val_acc: 0.7702\n",
      "Epoch 24/30\n",
      "4760/4760 [==============================] - 134s 28ms/step - loss: 0.0340 - acc: 0.9901 - val_loss: 1.0852 - val_acc: 0.7476\n",
      "Epoch 25/30\n",
      "4760/4760 [==============================] - 134s 28ms/step - loss: 0.0461 - acc: 0.9851 - val_loss: 1.0263 - val_acc: 0.7607\n",
      "Epoch 26/30\n",
      "4760/4760 [==============================] - 135s 28ms/step - loss: 0.0319 - acc: 0.9910 - val_loss: 1.1880 - val_acc: 0.7524\n",
      "Epoch 27/30\n",
      "4760/4760 [==============================] - 134s 28ms/step - loss: 0.0297 - acc: 0.9920 - val_loss: 1.1315 - val_acc: 0.7548\n",
      "Epoch 28/30\n",
      "4760/4760 [==============================] - 134s 28ms/step - loss: 0.0284 - acc: 0.9916 - val_loss: 1.1523 - val_acc: 0.7548\n",
      "Epoch 29/30\n",
      "4760/4760 [==============================] - 134s 28ms/step - loss: 0.0389 - acc: 0.9866 - val_loss: 1.0462 - val_acc: 0.7583\n",
      "Epoch 30/30\n",
      "4760/4760 [==============================] - 134s 28ms/step - loss: 0.0235 - acc: 0.9931 - val_loss: 1.1212 - val_acc: 0.7583\n"
     ]
    },
    {
     "data": {
      "text/plain": [
       "<keras.callbacks.History at 0x26b37f19bc8>"
      ]
     },
     "execution_count": 5,
     "metadata": {},
     "output_type": "execute_result"
    }
   ],
   "source": [
    "#使用InceptionV3進行模型訓練\n",
    "image_input=Input(shape=(224,224,3))\n",
    "model=VGG16(include_top=False, weights='imagenet', input_shape=(224,224,3),input_tensor=image_input)\n",
    "# model=VGG16(include_top=False, weights='imagenet', input_shape=(224,224,3),input_tensor=image_input,pooling='max')\n",
    "\n",
    "last_layer = model.output\n",
    "last_layer=Flatten()(last_layer)\n",
    "last_layer=Dropout(0.5)(last_layer)\n",
    "out = Dense(num_classes, activation='softmax', name='softmax')(last_layer)\n",
    "custom_V3_model = Model(image_input, out)\n",
    "# custom_V3_model.summary()\n",
    "\n",
    "custom_V3_model.compile(loss='categorical_crossentropy',optimizer=Adam(lr=1e-5),metrics=['accuracy'])\n",
    "custom_V3_model.fit(x_train,y_train,validation_data=(x_test,y_test),batch_size=16,epochs=30,verbose=1)"
   ]
  },
  {
   "cell_type": "code",
   "execution_count": 8,
   "metadata": {},
   "outputs": [],
   "source": [
    "prediction=custom_V3_model.predict(x_test)\n",
    "predict=np.argmax(prediction,axis=1)"
   ]
  },
  {
   "cell_type": "code",
   "execution_count": 9,
   "metadata": {},
   "outputs": [
    {
     "data": {
      "text/plain": [
       "array([1, 1, 1, 2, 0, 2, 0, 2, 2, 2, 1, 2, 0, 2, 2, 2, 1, 0, 1, 1, 2, 0,\n",
       "       1, 1, 0, 1, 0, 0, 1, 1, 1, 0, 2, 2, 2, 1, 1, 0, 2, 1, 2, 0, 1, 1,\n",
       "       0, 1, 0, 0, 0, 1, 2, 2, 0, 1, 0, 2, 0, 1, 1, 0, 1, 2, 0, 2, 1, 1,\n",
       "       2, 0, 0, 2, 2, 2, 0, 0, 1, 0, 0, 0, 1, 1, 1, 2, 0, 0, 2, 2, 1, 0,\n",
       "       0, 0, 1, 0, 0, 1, 1, 0, 1, 2, 0, 0, 1, 0, 2, 1, 0, 0, 1, 1, 2, 1,\n",
       "       1, 1, 2, 0, 2, 1, 0, 1, 2, 0, 2, 2, 0, 2, 0, 0, 1, 2, 2, 1, 1, 1,\n",
       "       1, 2, 0, 1, 0, 1, 2, 1, 2, 0, 0, 2, 1, 2, 1, 0, 1, 0, 0, 0, 0, 0,\n",
       "       1, 2, 0, 1, 1, 0, 0, 1, 1, 1, 2, 0, 1, 1, 1, 0, 0, 2, 1, 0, 0, 1,\n",
       "       0, 1, 2, 1, 0, 2, 0, 0, 0, 2, 1, 2, 2, 1, 2, 0, 0, 1, 1, 1, 0, 0,\n",
       "       0, 0, 0, 0, 0, 1, 0, 2, 1, 0, 0, 2, 0, 1, 0, 0, 1, 1, 0, 1, 0, 0,\n",
       "       1, 1, 1, 2, 1, 1, 0, 1, 1, 1, 2, 1, 0, 2, 2, 2, 0, 2, 1, 0, 0, 1,\n",
       "       2, 1, 2, 1, 1, 1, 1, 1, 0, 1, 0, 2, 2, 2, 0, 1, 1, 1, 1, 0, 2, 1,\n",
       "       1, 0, 0, 2, 1, 1, 1, 1, 2, 0, 0, 1, 0, 0, 2, 0, 1, 0, 2, 1, 0, 0,\n",
       "       0, 2, 2, 1, 0, 0, 1, 2, 0, 0, 2, 0, 0, 0, 1, 2, 0, 2, 1, 2, 0, 1,\n",
       "       0, 1, 1, 2, 1, 1, 0, 1, 0, 0, 1, 2, 0, 2, 0, 0, 0, 0, 1, 0, 0, 1,\n",
       "       1, 0, 0, 2, 0, 1, 2, 1, 2, 0, 1, 1, 0, 1, 1, 2, 2, 1, 1, 0, 1, 1,\n",
       "       2, 0, 0, 0, 1, 1, 1, 1, 1, 2, 0, 0, 1, 0, 2, 0, 0, 0, 0, 1, 1, 1,\n",
       "       1, 0, 1, 1, 2, 1, 0, 0, 1, 1, 1, 1, 2, 2, 0, 1, 0, 1, 1, 1, 0, 2,\n",
       "       2, 1, 2, 0, 0, 2, 2, 0, 0, 1, 0, 1, 1, 0, 0, 2, 2, 1, 1, 0, 1, 2,\n",
       "       0, 0, 1, 2, 1, 0, 0, 1, 0, 1, 2, 2, 0, 1, 0, 0, 2, 1, 0, 2, 1, 0,\n",
       "       0, 0, 0, 1, 2, 2, 1, 1, 0, 2, 2, 1, 2, 1, 1, 0, 0, 2, 0, 1, 2, 1,\n",
       "       0, 1, 2, 0, 0, 2, 0, 2, 2, 0, 0, 0, 0, 0, 2, 0, 2, 1, 1, 1, 0, 2,\n",
       "       1, 0, 1, 0, 0, 2, 1, 1, 1, 0, 2, 0, 2, 2, 0, 0, 0, 1, 1, 2, 1, 1,\n",
       "       0, 1, 1, 0, 0, 1, 1, 1, 0, 1, 0, 0, 0, 2, 0, 0, 0, 2, 1, 2, 0, 1,\n",
       "       1, 1, 0, 0, 2, 0, 1, 2, 1, 0, 0, 2, 0, 0, 2, 2, 0, 0, 2, 0, 0, 2,\n",
       "       0, 1, 1, 0, 0, 2, 0, 0, 1, 1, 1, 1, 2, 0, 1, 0, 2, 0, 2, 1, 1, 0,\n",
       "       1, 2, 2, 2, 0, 2, 0, 2, 0, 1, 0, 0, 1, 1, 2, 1, 2, 2, 1, 0, 2, 1,\n",
       "       0, 1, 0, 0, 2, 1, 2, 2, 1, 0, 0, 0, 1, 2, 1, 1, 1, 1, 0, 0, 1, 1,\n",
       "       1, 0, 0, 0, 0, 1, 0, 2, 2, 1, 2, 1, 0, 0, 0, 0, 1, 0, 0, 2, 0, 2,\n",
       "       1, 1, 1, 1, 1, 1, 0, 0, 0, 1, 1, 2, 0, 0, 0, 1, 2, 2, 2, 0, 0, 0,\n",
       "       1, 0, 2, 2, 0, 1, 1, 0, 0, 2, 2, 0, 2, 0, 1, 0, 0, 0, 1, 0, 0, 1,\n",
       "       1, 2, 1, 1, 0, 1, 2, 0, 1, 2, 0, 2, 2, 0, 1, 2, 1, 1, 0, 2, 0, 1,\n",
       "       1, 2, 2, 2, 1, 0, 2, 2, 1, 0, 1, 0, 0, 0, 0, 1, 1, 1, 1, 0, 1, 0,\n",
       "       2, 0, 2, 1, 0, 1, 2, 1, 2, 2, 1, 1, 0, 0, 2, 0, 0, 1, 0, 1, 1, 0,\n",
       "       1, 0, 1, 0, 1, 2, 1, 2, 0, 1, 0, 1, 1, 2, 0, 0, 2, 2, 0, 1, 1, 1,\n",
       "       1, 2, 0, 1, 0, 0, 0, 2, 1, 1, 2, 1, 0, 1, 1, 1, 1, 1, 1, 1, 1, 1,\n",
       "       1, 0, 1, 0, 0, 2, 1, 2, 0, 0, 0, 0, 1, 1, 2, 0, 0, 1, 1, 2, 2, 1,\n",
       "       0, 0, 1, 1, 1, 2, 2, 0, 2, 1, 0, 1, 0, 1, 2, 2, 2, 0, 1, 2, 2, 0,\n",
       "       1, 1, 0, 1], dtype=int64)"
      ]
     },
     "execution_count": 9,
     "metadata": {},
     "output_type": "execute_result"
    }
   ],
   "source": [
    "predict"
   ]
  },
  {
   "cell_type": "code",
   "execution_count": 16,
   "metadata": {},
   "outputs": [
    {
     "data": {
      "text/plain": [
       "0.7571428571428571"
      ]
     },
     "execution_count": 16,
     "metadata": {},
     "output_type": "execute_result"
    }
   ],
   "source": [
    "from sklearn.metrics import recall_score\n",
    "\n",
    "y_true=np.argmax(y_test,axis=1)\n",
    "recall_score(y_true, predict, average='weighted')"
   ]
  },
  {
   "cell_type": "code",
   "execution_count": 10,
   "metadata": {},
   "outputs": [],
   "source": [
    "model.save('vgg16.h5')"
   ]
  },
  {
   "cell_type": "code",
   "execution_count": 6,
   "metadata": {},
   "outputs": [
    {
     "name": "stdout",
     "output_type": "stream",
     "text": [
      "_________________________________________________________________\n",
      "Layer (type)                 Output Shape              Param #   \n",
      "=================================================================\n",
      "input_1 (InputLayer)         (None, 224, 224, 3)       0         \n",
      "_________________________________________________________________\n",
      "block1_conv1 (Conv2D)        (None, 224, 224, 64)      1792      \n",
      "_________________________________________________________________\n",
      "block1_conv2 (Conv2D)        (None, 224, 224, 64)      36928     \n",
      "_________________________________________________________________\n",
      "block1_pool (MaxPooling2D)   (None, 112, 112, 64)      0         \n",
      "_________________________________________________________________\n",
      "block2_conv1 (Conv2D)        (None, 112, 112, 128)     73856     \n",
      "_________________________________________________________________\n",
      "block2_conv2 (Conv2D)        (None, 112, 112, 128)     147584    \n",
      "_________________________________________________________________\n",
      "block2_pool (MaxPooling2D)   (None, 56, 56, 128)       0         \n",
      "_________________________________________________________________\n",
      "block3_conv1 (Conv2D)        (None, 56, 56, 256)       295168    \n",
      "_________________________________________________________________\n",
      "block3_conv2 (Conv2D)        (None, 56, 56, 256)       590080    \n",
      "_________________________________________________________________\n",
      "block3_conv3 (Conv2D)        (None, 56, 56, 256)       590080    \n",
      "_________________________________________________________________\n",
      "block3_pool (MaxPooling2D)   (None, 28, 28, 256)       0         \n",
      "_________________________________________________________________\n",
      "block4_conv1 (Conv2D)        (None, 28, 28, 512)       1180160   \n",
      "_________________________________________________________________\n",
      "block4_conv2 (Conv2D)        (None, 28, 28, 512)       2359808   \n",
      "_________________________________________________________________\n",
      "block4_conv3 (Conv2D)        (None, 28, 28, 512)       2359808   \n",
      "_________________________________________________________________\n",
      "block4_pool (MaxPooling2D)   (None, 14, 14, 512)       0         \n",
      "_________________________________________________________________\n",
      "block5_conv1 (Conv2D)        (None, 14, 14, 512)       2359808   \n",
      "_________________________________________________________________\n",
      "block5_conv2 (Conv2D)        (None, 14, 14, 512)       2359808   \n",
      "_________________________________________________________________\n",
      "block5_conv3 (Conv2D)        (None, 14, 14, 512)       2359808   \n",
      "_________________________________________________________________\n",
      "block5_pool (MaxPooling2D)   (None, 7, 7, 512)         0         \n",
      "_________________________________________________________________\n",
      "global_max_pooling2d_1 (Glob (None, 512)               0         \n",
      "_________________________________________________________________\n",
      "dropout_1 (Dropout)          (None, 512)               0         \n",
      "_________________________________________________________________\n",
      "softmax (Dense)              (None, 3)                 1539      \n",
      "=================================================================\n",
      "Total params: 14,716,227\n",
      "Trainable params: 14,716,227\n",
      "Non-trainable params: 0\n",
      "_________________________________________________________________\n"
     ]
    }
   ],
   "source": [
    "custom_V3_model.summary()"
   ]
  },
  {
   "cell_type": "code",
   "execution_count": null,
   "metadata": {},
   "outputs": [],
   "source": []
  }
 ],
 "metadata": {
  "kernelspec": {
   "display_name": "Python 3",
   "language": "python",
   "name": "python3"
  },
  "language_info": {
   "codemirror_mode": {
    "name": "ipython",
    "version": 3
   },
   "file_extension": ".py",
   "mimetype": "text/x-python",
   "name": "python",
   "nbconvert_exporter": "python",
   "pygments_lexer": "ipython3",
   "version": "3.7.4"
  }
 },
 "nbformat": 4,
 "nbformat_minor": 2
}
