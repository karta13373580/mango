{
 "cells": [
  {
   "cell_type": "code",
   "execution_count": 1,
   "metadata": {},
   "outputs": [
    {
     "name": "stderr",
     "output_type": "stream",
     "text": [
      "Using TensorFlow backend.\n"
     ]
    }
   ],
   "source": [
    "#匯入所需模組\n",
    "\n",
    "import os\n",
    "import pandas as pd\n",
    "import numpy as np\n",
    "import cv2\n",
    "import PIL.Image\n",
    "from keras.preprocessing import image\n",
    "from keras.utils import np_utils\n",
    "from sklearn.utils import shuffle\n",
    "from sklearn.model_selection import train_test_split\n",
    "from keras.applications import *\n",
    "from keras.optimizers import Adam\n",
    "from keras.layers import Dense, Activation, Flatten\n",
    "from keras.layers import Input,Dropout\n",
    "from keras.models import Model"
   ]
  },
  {
   "cell_type": "code",
   "execution_count": 2,
   "metadata": {},
   "outputs": [],
   "source": [
    "label_list=list()\n",
    "img_name_list=list()\n",
    "fp=open('./new_train.csv', \"r\")\n",
    "for line in iter(fp):\n",
    "    img_name_list.append(line[:-3])\n",
    "    if line[-2:-1]=='A':\n",
    "        label_list.append(0)\n",
    "    elif line[-2:-1]=='B':\n",
    "        label_list.append(1)\n",
    "    elif line[-2:-1]=='C':\n",
    "        label_list.append(2)\n",
    "fp.close()"
   ]
  },
  {
   "cell_type": "code",
   "execution_count": 3,
   "metadata": {},
   "outputs": [],
   "source": [
    "dev_label_list=list()\n",
    "dev_img_name_list=list()\n",
    "fp=open('./dev.csv', \"r\")\n",
    "for line in iter(fp):\n",
    "    dev_img_name_list.append(line[:-3])\n",
    "    if line[-2:-1]=='A':\n",
    "        dev_label_list.append(0)\n",
    "    elif line[-2:-1]=='B':\n",
    "        dev_label_list.append(1)\n",
    "    elif line[-2:-1]=='C':\n",
    "        dev_label_list.append(2)\n",
    "fp.close()"
   ]
  },
  {
   "cell_type": "code",
   "execution_count": 4,
   "metadata": {},
   "outputs": [
    {
     "name": "stdout",
     "output_type": "stream",
     "text": [
      "(22396, 224, 224, 3)\n"
     ]
    }
   ],
   "source": [
    "#讀進訓練集並做正規化\n",
    "path='./new_C1-P1_Train/'\n",
    "img_data_list=[]\n",
    "\n",
    "for img in img_name_list:\n",
    "    img_path=path+img\n",
    "    IMG=image.load_img(img_path,target_size=(224,224))\n",
    "    im=image.img_to_array(IMG)\n",
    "    im=im/255.0\n",
    "    img_data_list.append(im)\n",
    "\n",
    "img_data = np.array(img_data_list)\n",
    "\n",
    "print (img_data.shape)  "
   ]
  },
  {
   "cell_type": "code",
   "execution_count": 5,
   "metadata": {},
   "outputs": [
    {
     "name": "stdout",
     "output_type": "stream",
     "text": [
      "(800, 224, 224, 3)\n"
     ]
    }
   ],
   "source": [
    "path='./C1-P1_Dev/'\n",
    "img_data_list=[]\n",
    "\n",
    "for img in dev_img_name_list:\n",
    "    img_path=path+img\n",
    "    IMG=image.load_img(img_path,target_size=(224,224))\n",
    "    im=image.img_to_array(IMG)\n",
    "    im=im/255.0\n",
    "    img_data_list.append(im)\n",
    "\n",
    "dev_img_data = np.array(img_data_list)\n",
    "\n",
    "print (dev_img_data.shape)  "
   ]
  },
  {
   "cell_type": "code",
   "execution_count": 6,
   "metadata": {},
   "outputs": [],
   "source": [
    "#設定標籤值\n",
    "num_classes=3\n",
    "Y_train=np_utils.to_categorical(label_list,num_classes)\n",
    "x_train,y_train=shuffle(img_data,Y_train,random_state=2)\n",
    "\n",
    "Y_test=np_utils.to_categorical(dev_label_list,num_classes)\n",
    "x_test,y_test=shuffle(dev_img_data,Y_test,random_state=2)\n",
    "\n",
    "# #訓練集80%、驗證集20%\n",
    "# x_train,x_test,y_train,y_test=train_test_split(x,y,test_size=0.2,random_state=2)"
   ]
  },
  {
   "cell_type": "code",
   "execution_count": 7,
   "metadata": {},
   "outputs": [
    {
     "name": "stdout",
     "output_type": "stream",
     "text": [
      "WARNING:tensorflow:From C:\\Users\\le621\\Anaconda3\\lib\\site-packages\\keras\\backend\\tensorflow_backend.py:74: The name tf.get_default_graph is deprecated. Please use tf.compat.v1.get_default_graph instead.\n",
      "\n",
      "WARNING:tensorflow:From C:\\Users\\le621\\Anaconda3\\lib\\site-packages\\keras\\backend\\tensorflow_backend.py:517: The name tf.placeholder is deprecated. Please use tf.compat.v1.placeholder instead.\n",
      "\n",
      "WARNING:tensorflow:From C:\\Users\\le621\\Anaconda3\\lib\\site-packages\\keras\\backend\\tensorflow_backend.py:4138: The name tf.random_uniform is deprecated. Please use tf.random.uniform instead.\n",
      "\n",
      "WARNING:tensorflow:From C:\\Users\\le621\\Anaconda3\\lib\\site-packages\\keras\\backend\\tensorflow_backend.py:3976: The name tf.nn.max_pool is deprecated. Please use tf.nn.max_pool2d instead.\n",
      "\n",
      "WARNING:tensorflow:From C:\\Users\\le621\\Anaconda3\\lib\\site-packages\\keras\\backend\\tensorflow_backend.py:174: The name tf.get_default_session is deprecated. Please use tf.compat.v1.get_default_session instead.\n",
      "\n",
      "WARNING:tensorflow:From C:\\Users\\le621\\Anaconda3\\lib\\site-packages\\keras\\backend\\tensorflow_backend.py:181: The name tf.ConfigProto is deprecated. Please use tf.compat.v1.ConfigProto instead.\n",
      "\n",
      "WARNING:tensorflow:From C:\\Users\\le621\\Anaconda3\\lib\\site-packages\\keras\\backend\\tensorflow_backend.py:3445: calling dropout (from tensorflow.python.ops.nn_ops) with keep_prob is deprecated and will be removed in a future version.\n",
      "Instructions for updating:\n",
      "Please use `rate` instead of `keep_prob`. Rate should be set to `rate = 1 - keep_prob`.\n",
      "WARNING:tensorflow:From C:\\Users\\le621\\Anaconda3\\lib\\site-packages\\keras\\optimizers.py:790: The name tf.train.Optimizer is deprecated. Please use tf.compat.v1.train.Optimizer instead.\n",
      "\n",
      "WARNING:tensorflow:From C:\\Users\\le621\\Anaconda3\\lib\\site-packages\\tensorflow\\python\\ops\\math_grad.py:1250: add_dispatch_support.<locals>.wrapper (from tensorflow.python.ops.array_ops) is deprecated and will be removed in a future version.\n",
      "Instructions for updating:\n",
      "Use tf.where in 2.0, which has the same broadcast rule as np.where\n",
      "Train on 22396 samples, validate on 800 samples\n",
      "Epoch 1/30\n",
      "22396/22396 [==============================] - 724s 32ms/step - loss: 0.7410 - acc: 0.6660 - val_loss: 0.6227 - val_acc: 0.7163\n",
      "Epoch 2/30\n",
      "22396/22396 [==============================] - 667s 30ms/step - loss: 0.5682 - acc: 0.7534 - val_loss: 0.5388 - val_acc: 0.7562\n",
      "Epoch 3/30\n",
      "22396/22396 [==============================] - 668s 30ms/step - loss: 0.5054 - acc: 0.7812 - val_loss: 0.5518 - val_acc: 0.7475\n",
      "Epoch 4/30\n",
      "22396/22396 [==============================] - 661s 30ms/step - loss: 0.4487 - acc: 0.8081 - val_loss: 0.5500 - val_acc: 0.7638\n",
      "Epoch 5/30\n",
      "22396/22396 [==============================] - 662s 30ms/step - loss: 0.3778 - acc: 0.8455 - val_loss: 0.5450 - val_acc: 0.7937\n",
      "Epoch 6/30\n",
      "22396/22396 [==============================] - 643s 29ms/step - loss: 0.3184 - acc: 0.8710 - val_loss: 0.6053 - val_acc: 0.7688\n",
      "Epoch 7/30\n",
      "22396/22396 [==============================] - 651s 29ms/step - loss: 0.2555 - acc: 0.8994 - val_loss: 0.6224 - val_acc: 0.7712\n",
      "Epoch 8/30\n",
      "22396/22396 [==============================] - 649s 29ms/step - loss: 0.2003 - acc: 0.9248 - val_loss: 0.6685 - val_acc: 0.7750\n",
      "Epoch 9/30\n",
      "22396/22396 [==============================] - 640s 29ms/step - loss: 0.1551 - acc: 0.9413 - val_loss: 0.7287 - val_acc: 0.7625\n",
      "Epoch 10/30\n",
      "22396/22396 [==============================] - 638s 28ms/step - loss: 0.1225 - acc: 0.9544 - val_loss: 0.7577 - val_acc: 0.7712\n",
      "Epoch 11/30\n",
      "22396/22396 [==============================] - 649s 29ms/step - loss: 0.1001 - acc: 0.9644 - val_loss: 0.8156 - val_acc: 0.7550\n",
      "Epoch 12/30\n",
      "22396/22396 [==============================] - 640s 29ms/step - loss: 0.0803 - acc: 0.9709 - val_loss: 0.8434 - val_acc: 0.7638\n",
      "Epoch 13/30\n",
      "22396/22396 [==============================] - 632s 28ms/step - loss: 0.0646 - acc: 0.9780 - val_loss: 0.8601 - val_acc: 0.7662\n",
      "Epoch 14/30\n",
      "22396/22396 [==============================] - 648s 29ms/step - loss: 0.0597 - acc: 0.9796 - val_loss: 0.9047 - val_acc: 0.7725\n",
      "Epoch 15/30\n",
      "22396/22396 [==============================] - 636s 28ms/step - loss: 0.0486 - acc: 0.9837 - val_loss: 0.9476 - val_acc: 0.7700\n",
      "Epoch 16/30\n",
      "22396/22396 [==============================] - 638s 28ms/step - loss: 0.0450 - acc: 0.9846 - val_loss: 0.9698 - val_acc: 0.7650\n",
      "Epoch 17/30\n",
      "22396/22396 [==============================] - 627s 28ms/step - loss: 0.0413 - acc: 0.9858 - val_loss: 1.0084 - val_acc: 0.7875\n",
      "Epoch 18/30\n",
      "22396/22396 [==============================] - 628s 28ms/step - loss: 0.0392 - acc: 0.9871 - val_loss: 1.0605 - val_acc: 0.7612\n",
      "Epoch 19/30\n",
      "22396/22396 [==============================] - 631s 28ms/step - loss: 0.0321 - acc: 0.9892 - val_loss: 1.1429 - val_acc: 0.7650\n",
      "Epoch 20/30\n",
      "22396/22396 [==============================] - 627s 28ms/step - loss: 0.0319 - acc: 0.9891 - val_loss: 1.1383 - val_acc: 0.7562\n",
      "Epoch 21/30\n",
      "22396/22396 [==============================] - 633s 28ms/step - loss: 0.0280 - acc: 0.9912 - val_loss: 1.3340 - val_acc: 0.7625\n",
      "Epoch 22/30\n",
      "22396/22396 [==============================] - 628s 28ms/step - loss: 0.0305 - acc: 0.9899 - val_loss: 1.2943 - val_acc: 0.7525\n",
      "Epoch 23/30\n",
      "22396/22396 [==============================] - 639s 29ms/step - loss: 0.0278 - acc: 0.9907 - val_loss: 1.2054 - val_acc: 0.7662\n",
      "Epoch 24/30\n",
      "22396/22396 [==============================] - 628s 28ms/step - loss: 0.0235 - acc: 0.9921 - val_loss: 1.1352 - val_acc: 0.7612\n",
      "Epoch 25/30\n",
      "22396/22396 [==============================] - 619s 28ms/step - loss: 0.0259 - acc: 0.9906 - val_loss: 1.0702 - val_acc: 0.7638\n",
      "Epoch 26/30\n",
      "22396/22396 [==============================] - 625s 28ms/step - loss: 0.0279 - acc: 0.9903 - val_loss: 1.2067 - val_acc: 0.7638\n",
      "Epoch 27/30\n",
      "22396/22396 [==============================] - 625s 28ms/step - loss: 0.0225 - acc: 0.9924 - val_loss: 1.2159 - val_acc: 0.7700\n",
      "Epoch 28/30\n",
      "22396/22396 [==============================] - 621s 28ms/step - loss: 0.0218 - acc: 0.9937 - val_loss: 1.2653 - val_acc: 0.7538\n",
      "Epoch 29/30\n",
      "22396/22396 [==============================] - 614s 27ms/step - loss: 0.0170 - acc: 0.9951 - val_loss: 1.3409 - val_acc: 0.7550\n",
      "Epoch 30/30\n",
      "22396/22396 [==============================] - 614s 27ms/step - loss: 0.0222 - acc: 0.9920 - val_loss: 1.1747 - val_acc: 0.7562\n"
     ]
    },
    {
     "data": {
      "text/plain": [
       "<keras.callbacks.History at 0x17dde0c7d48>"
      ]
     },
     "execution_count": 7,
     "metadata": {},
     "output_type": "execute_result"
    }
   ],
   "source": [
    "#使用InceptionV3進行模型訓練\n",
    "image_input=Input(shape=(224,224,3))\n",
    "model=VGG16(include_top=False, weights='imagenet', input_shape=(224,224,3),input_tensor=image_input)\n",
    "\n",
    "last_layer = model.output\n",
    "last_layer=Flatten()(last_layer)\n",
    "last_layer=Dropout(0.5)(last_layer)\n",
    "out = Dense(num_classes, activation='softmax', name='softmax')(last_layer)\n",
    "custom_V3_model = Model(image_input, out)\n",
    "# custom_V3_model.summary()\n",
    "\n",
    "custom_V3_model.compile(loss='categorical_crossentropy',optimizer=Adam(lr=1e-5),metrics=['accuracy'])\n",
    "custom_V3_model.fit(x_train,y_train,validation_data=(x_test,y_test),batch_size=16,epochs=30,verbose=1)"
   ]
  },
  {
   "cell_type": "code",
   "execution_count": null,
   "metadata": {},
   "outputs": [],
   "source": []
  }
 ],
 "metadata": {
  "kernelspec": {
   "display_name": "Python 3",
   "language": "python",
   "name": "python3"
  },
  "language_info": {
   "codemirror_mode": {
    "name": "ipython",
    "version": 3
   },
   "file_extension": ".py",
   "mimetype": "text/x-python",
   "name": "python",
   "nbconvert_exporter": "python",
   "pygments_lexer": "ipython3",
   "version": "3.7.3"
  }
 },
 "nbformat": 4,
 "nbformat_minor": 2
}
