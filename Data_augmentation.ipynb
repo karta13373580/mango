{
 "cells": [
  {
   "cell_type": "code",
   "execution_count": 1,
   "metadata": {},
   "outputs": [],
   "source": [
    "import os\n",
    "import cv2\n",
    "\n",
    "PATH =\"./C1-P1_Train\" \n",
    "img_mane_list=os.listdir(PATH)"
   ]
  },
  {
   "cell_type": "code",
   "execution_count": 2,
   "metadata": {},
   "outputs": [
    {
     "name": "stderr",
     "output_type": "stream",
     "text": [
      "Using TensorFlow backend.\n"
     ]
    }
   ],
   "source": [
    "from pylab import rcParams\n",
    "from keras.preprocessing.image import *\n",
    "\n",
    "rcParams['figure.figsize'] = 8, 8\n",
    "datagen = ImageDataGenerator(\n",
    "rotation_range=40,\n",
    "width_shift_range=0.01,\n",
    "height_shift_range=0.01,\n",
    "shear_range=0.01,\n",
    "zoom_range=0.1,\n",
    "horizontal_flip=True,\n",
    "# vertical_flip=True,\n",
    "fill_mode='nearest')"
   ]
  },
  {
   "cell_type": "code",
   "execution_count": 3,
   "metadata": {},
   "outputs": [],
   "source": [
    "for img_name in img_mane_list:\n",
    "    img = load_img(PATH+\"/\"+img_name) \n",
    "    x = img_to_array(img) \n",
    "    x = x.reshape((1,) + x.shape)\n",
    "    i = 0\n",
    "#     print(img_name)\n",
    "    for batch in datagen.flow(x, batch_size=1,save_to_dir='./new_C1-P1_Train',save_prefix=img_name[:-4],save_format='jpg'):\n",
    "        augImage = batch[0]\n",
    "        augImage = augImage.astype('float64')\n",
    "        i += 1\n",
    "        if i > 3:\n",
    "            break "
   ]
  },
  {
   "cell_type": "code",
   "execution_count": null,
   "metadata": {},
   "outputs": [],
   "source": []
  }
 ],
 "metadata": {
  "kernelspec": {
   "display_name": "Python 3",
   "language": "python",
   "name": "python3"
  },
  "language_info": {
   "codemirror_mode": {
    "name": "ipython",
    "version": 3
   },
   "file_extension": ".py",
   "mimetype": "text/x-python",
   "name": "python",
   "nbconvert_exporter": "python",
   "pygments_lexer": "ipython3",
   "version": "3.7.4"
  }
 },
 "nbformat": 4,
 "nbformat_minor": 2
}
