{
 "cells": [
  {
   "cell_type": "code",
   "execution_count": 1,
   "metadata": {},
   "outputs": [],
   "source": [
    "import os\n",
    "import pandas as pd\n",
    "import numpy as np\n",
    "import cv2\n",
    "import PIL.Image"
   ]
  },
  {
   "cell_type": "code",
   "execution_count": 2,
   "metadata": {},
   "outputs": [],
   "source": [
    "label_list=list()\n",
    "img_name_list=list()\n",
    "fp=open('./train.csv', \"r\")\n",
    "for line in iter(fp):\n",
    "    img_name_list.append(line[:-3])\n",
    "#     if line[-2:-1]=='A':\n",
    "#         label_list.append(0)\n",
    "#     elif line[-2:-1]=='B':\n",
    "#         label_list.append(1)\n",
    "#     elif line[-2:-1]=='C':\n",
    "#         label_list.append(2)\n",
    "fp.close()"
   ]
  },
  {
   "cell_type": "code",
   "execution_count": 3,
   "metadata": {},
   "outputs": [],
   "source": [
    "path='./C1-P1_Train/'\n",
    "img_data_list=[]\n",
    "\n",
    "for img in img_name_list:\n",
    "    img_path=path+img\n",
    "    IM=cv2.imread(img_path)\n",
    "    IMG=IM[int(IM.shape[0]/10):int(IM.shape[0]/10*9),int(IM.shape[1]/10):int(IM.shape[1]/10*9)]\n",
    "    cv2.imwrite('./new_C1-P1_Train/'+img, IMG)"
   ]
  },
  {
   "cell_type": "code",
   "execution_count": null,
   "metadata": {},
   "outputs": [],
   "source": []
  }
 ],
 "metadata": {
  "kernelspec": {
   "display_name": "Python 3",
   "language": "python",
   "name": "python3"
  },
  "language_info": {
   "codemirror_mode": {
    "name": "ipython",
    "version": 3
   },
   "file_extension": ".py",
   "mimetype": "text/x-python",
   "name": "python",
   "nbconvert_exporter": "python",
   "pygments_lexer": "ipython3",
   "version": "3.7.4"
  }
 },
 "nbformat": 4,
 "nbformat_minor": 2
}
